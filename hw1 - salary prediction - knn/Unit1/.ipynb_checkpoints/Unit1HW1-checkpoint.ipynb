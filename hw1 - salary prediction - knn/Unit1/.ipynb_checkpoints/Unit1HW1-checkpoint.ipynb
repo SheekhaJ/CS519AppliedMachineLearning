{
 "cells": [
  {
   "cell_type": "code",
   "execution_count": 24,
   "metadata": {},
   "outputs": [],
   "source": [
    "import csv\n",
    "import numpy as np\n",
    "import math\n",
    "from collections import defaultdict\n",
    "from collections import Counter\n",
    "import time"
   ]
  },
  {
   "cell_type": "code",
   "execution_count": 25,
   "metadata": {},
   "outputs": [],
   "source": [
    "def getData(fileName):\n",
    "    with open(fileName) as trainTxt:\n",
    "        train = trainTxt.readlines()\n",
    "\n",
    "        #Getting all data except the target column\n",
    "        data = list(map(lambda s : s.strip().split(', '), train))\n",
    "    return data"
   ]
  },
  {
   "cell_type": "code",
   "execution_count": 26,
   "metadata": {},
   "outputs": [],
   "source": [
    "def getAllData(fileName):\n",
    "    with open(fileName) as trainTxt:\n",
    "        train = trainTxt.readlines()\n",
    "\n",
    "    #Getting all data except the target column\n",
    "    data = list(map(lambda s : s.strip().split(', '), train))\n",
    "        \n",
    "    sector = [line[1] for line in data]\n",
    "    education = [line[2] for line in data]\n",
    "    marital = [line[3] for line in data]\n",
    "    occ = [line[4] for line in data]\n",
    "    race = [line[5] for line in data]\n",
    "    gender = [line[6] for line in data]\n",
    "    country = [line[8] for line in data]\n",
    "    \n",
    "    age = [x/100 for x in list(map(int,[line[0] for line in data]))]\n",
    "    hours = [x/100 for x in list(map(int,[line[7] for line in data]))]\n",
    "    \n",
    "    return list(zip(age, sector, education, marital, occ, race, gender, country, hours))"
   ]
  },
  {
   "cell_type": "code",
   "execution_count": 27,
   "metadata": {},
   "outputs": [],
   "source": [
    "def getCategoricalFeaturesData(data):\n",
    "    sector = [line[1] for line in data]\n",
    "    education = [line[2] for line in data]\n",
    "    marital = [line[3] for line in data]\n",
    "    occ = [line[4] for line in data]\n",
    "    race = [line[5] for line in data]\n",
    "    gender = [line[6] for line in data]\n",
    "    country = [line[8] for line in data]\n",
    "    \n",
    "    return list(zip(sector, education, marital, occ, race, gender, country))"
   ]
  },
  {
   "cell_type": "code",
   "execution_count": 28,
   "metadata": {},
   "outputs": [],
   "source": [
    "def getNumericalFeaturesData(data):\n",
    "    age = [x/50 for x in list(map(int,[line[0] for line in data]))]\n",
    "    hours = [x/50 for x in list(map(int,[line[7] for line in data]))]\n",
    "    \n",
    "    return list(zip(age, hours))"
   ]
  },
  {
   "cell_type": "code",
   "execution_count": 29,
   "metadata": {},
   "outputs": [],
   "source": [
    "def getTarget(data):\n",
    "    return [line[-1] for line in data]"
   ]
  },
  {
   "cell_type": "code",
   "execution_count": 30,
   "metadata": {},
   "outputs": [],
   "source": [
    "def getFeatureMapAndBinarizedData(trainData):\n",
    "    featureMapping = {}\n",
    "    encodedTrainData = []\n",
    "    \n",
    "    for row in trainData:\n",
    "        newRow = []\n",
    "        for j,x in enumerate(row):\n",
    "            if isinstance(x,str) and j not in [0,8]:\n",
    "                feature = (j,x)\n",
    "                if feature not in featureMapping:\n",
    "                    featureMapping[feature] = len(featureMapping)\n",
    "                newRow.append(featureMapping[feature])\n",
    "            elif j in [0,8]:\n",
    "                newRow.append(x)\n",
    "            else:\n",
    "                print('unusual')\n",
    "        encodedTrainData.append(newRow)\n",
    "        \n",
    "    return featureMapping, encodedTrainData"
   ]
  },
  {
   "cell_type": "code",
   "execution_count": null,
   "metadata": {},
   "outputs": [],
   "source": [
    "def getRawFeatureMapAndBinarizedData(trainData):\n",
    "    featureMapping = {}\n",
    "    encodedTrainData = []\n",
    "    \n",
    "    for row in trainData:\n",
    "        newRow = []\n",
    "        for j,x in enumerate(row):\n",
    "            feature = (j,x)\n",
    "            if feature not in featureMapping:\n",
    "                featureMapping[feature] = len(featureMapping)\n",
    "            newRow.append(featureMapping[feature])\n",
    "        encodedTrainData.append(newRow)\n",
    "        \n",
    "    return featureMapping, encodedTrainData"
   ]
  },
  {
   "cell_type": "code",
   "execution_count": null,
   "metadata": {},
   "outputs": [],
   "source": [
    "def getTranslatedOnFeatureMap(featureMapping, data):\n",
    "    translatedData = []\n",
    "    \n",
    "    for row in data:\n",
    "        newRow = []\n",
    "        for j,x in enumerate(row):\n",
    "            feature = (j,x)\n",
    "            if j not in [0,8]:\n",
    "                if feature in featureMapping.keys():\n",
    "                    newRow.append(featureMapping[feature])\n",
    "            elif j in [0,8]:\n",
    "                newRow.append(x)\n",
    "        translatedData.append(newRow)\n",
    "    return translatedData"
   ]
  },
  {
   "cell_type": "code",
   "execution_count": null,
   "metadata": {},
   "outputs": [],
   "source": [
    "def getBinarizedData(unbinarizedData, numberOfFeatures):\n",
    "    finalData = np.zeros((len(unbinarizedData), numberOfFeatures))\n",
    "    for c, row in enumerate(unbinarizedData):\n",
    "        for i,x in enumerate(row):\n",
    "            if isinstance(x,int) and i not in [0,8]:\n",
    "                finalData[c][x] = 1\n",
    "            elif isinstance(x,float) and i in [0,8]:\n",
    "                finalData[c][i] = x\n",
    "    return finalData"
   ]
  },
  {
   "cell_type": "code",
   "execution_count": null,
   "metadata": {},
   "outputs": [],
   "source": [
    "def getLingAlgNorm(binarizedTrainData, binarizedDevData, k):\n",
    "    eucs = defaultdict(int)\n",
    "    for c,devRow in enumerate(binarizedDevData):\n",
    "        dist = []\n",
    "        for x,tRow in enumerate(binarizedTrainData):\n",
    "            dist.append((x,np.linalg.norm(np.array(tRow)-np.array(devRow))))\n",
    "        eucs[c] = sorted(dist, key = lambda s : s[1])[:k]\n",
    "    return eucs"
   ]
  },
  {
   "cell_type": "code",
   "execution_count": null,
   "metadata": {},
   "outputs": [],
   "source": [
    "def getEucDist(trainRow, testRow):\n",
    "    n = len(trainRow)\n",
    "    return math.sqrt(sum([ (np.array(trainRow[i]) - np.array(testRow[i])) **2 for i in range(n)] ))"
   ]
  },
  {
   "cell_type": "code",
   "execution_count": null,
   "metadata": {},
   "outputs": [],
   "source": [
    "def getNormWithoutIndex(train, test, ord=None):\n",
    "    dist = []\n",
    "    for row in test:\n",
    "        dist.append(np.linalg.norm(train - row, ord, axis = 1))\n",
    "    return dist"
   ]
  },
  {
   "cell_type": "code",
   "execution_count": null,
   "metadata": {},
   "outputs": [],
   "source": [
    "def getPredictions(topKElements, fileName):\n",
    "    actualIncome = getTarget(getData(fileName))\n",
    "    predictions = []\n",
    "    \n",
    "    for i in range(len(topKElements)):\n",
    "        predictedLabelsIndex = [actualIncome[j] for j in topKElements[i]]\n",
    "        predictedLabel = Counter(predictedLabelsIndex).most_common(1)[0][0]\n",
    "        predictions.append(predictedLabel)\n",
    "    return predictions"
   ]
  },
  {
   "cell_type": "code",
   "execution_count": null,
   "metadata": {},
   "outputs": [],
   "source": [
    "def getTopKElements(l,k):\n",
    "    topK = []\n",
    "    i = 0\n",
    "    \n",
    "    while len(topK) < k:\n",
    "        topK.append((l[i],i))\n",
    "        for j in range(i+1,len(l)):\n",
    "            if topK[i][0] > l[j]:\n",
    "                topK[i] = (l[j],j)\n",
    "                l[i], l[j] = l[j], l[i]\n",
    "        i+=1\n",
    "    return topK"
   ]
  },
  {
   "cell_type": "code",
   "execution_count": null,
   "metadata": {},
   "outputs": [],
   "source": [
    "def getErrorRate(predictions, actualTargetFileName):\n",
    "    actuals = getTarget(getData(actualTargetFileName))\n",
    "    error = 0\n",
    "    for i in range(len(predictions)):\n",
    "        if actuals[i] != predictions[i]:\n",
    "            error+=1\n",
    "    return error/10"
   ]
  },
  {
   "cell_type": "code",
   "execution_count": null,
   "metadata": {},
   "outputs": [],
   "source": [
    "def getPositives(predictions):\n",
    "    return Counter(predictions)['>50K']/10"
   ]
  },
  {
   "cell_type": "code",
   "execution_count": null,
   "metadata": {},
   "outputs": [],
   "source": [
    "def getErrorRatesAndPositivePercentage(distWithoutIndex, baselineFileName):\n",
    "    kList = [1,3,5,7,9,31,32,33,34,35,40,99,999,9999]\n",
    "    \n",
    "    topKElements = defaultdict(list)\n",
    "    predictions = defaultdict(list)\n",
    "\n",
    "    for k in kList:\n",
    "        if len(distWithoutIndex) < k:\n",
    "            k = len(distWithoutIndex)\n",
    "            topKElements[k] = [np.argpartition(x,k-1, axis=0)[:k-1] for x in [distWithoutIndex[i] for i in range(len(distWithoutIndex))]]\n",
    "        else:\n",
    "            topKElements[k] = [np.argpartition(x,k, axis=0)[:k] for x in [distWithoutIndex[i] for i in range(len(distWithoutIndex))]]\n",
    "        predictions[k] = getPredictions(topKElements[k], baselineFileName)\n",
    "\n",
    "    return predictions"
   ]
  },
  {
   "cell_type": "code",
   "execution_count": null,
   "metadata": {},
   "outputs": [
    {
     "name": "stdout",
     "output_type": "stream",
     "text": [
      "------For dev data---------\n",
      "k: 1 error rate: 23.9 positive: 26.7\n",
      "k: 3 error rate: 20.0 positive: 24.6\n",
      "k: 5 error rate: 19.0 positive: 23.8\n",
      "k: 7 error rate: 17.4 positive: 24.0\n",
      "k: 9 error rate: 17.0 positive: 21.6\n",
      "k: 31 error rate: 16.7 positive: 18.9\n",
      "k: 32 error rate: 16.1 positive: 18.9\n",
      "k: 33 error rate: 16.4 positive: 18.4\n",
      "k: 34 error rate: 15.8 positive: 18.6\n",
      "k: 35 error rate: 15.9 positive: 19.1\n",
      "k: 40 error rate: 16.0 positive: 18.8\n",
      "k: 99 error rate: 16.7 positive: 16.7\n",
      "k: 999 error rate: 20.4 positive: 5.8\n",
      "k: 1000 error rate: 20.4 positive: 5.8\n",
      "------For train data---------\n"
     ]
    }
   ],
   "source": [
    "featureMapping, unbinarizedTrainData = getFeatureMapAndBinarizedData(getAllData('income.train.txt.5k'))\n",
    "unbinarizedTrainData = getTranslatedOnFeatureMap(featureMapping, getAllData('income.train.txt.5k'))\n",
    "unbinarizedDevData = getTranslatedOnFeatureMap(featureMapping, getAllData('income.dev.txt'))\n",
    "unbinarizedTestData = getTranslatedOnFeatureMap(featureMapping, getAllData('income.test.blind'))\n",
    "\n",
    "binarizedTrainData = getBinarizedData(unbinarizedTrainData, 92)\n",
    "binarizedDevData = getBinarizedData(unbinarizedDevData, 92)\n",
    "binarizedTestData = getBinarizedData(unbinarizedTestData, 92)\n",
    "\n",
    "print('------For dev data---------')\n",
    "devDistWithoutIndex = getNormWithoutIndex(binarizedTrainData, binarizedDevData)\n",
    "devPredictions = getErrorRatesAndPositivePercentage(devDistWithoutIndex, 'income.train.txt.5k')\n",
    "\n",
    "for k,preds in devPredictions.items():\n",
    "    print('k: {} error rate: {} positive: {}'.format(k,getErrorRate(preds, 'income.dev.txt'), getPositives(preds)))\n",
    "\n",
    "print('------For train data---------')\n",
    "trainDistWithoutIndex = getNormWithoutIndex(binarizedTrainData, binarizedTrainData)\n",
    "trainPredictions = getErrorRatesAndPositivePercentage(trainDistWithoutIndex, 'income.train.txt.5k')\n",
    "for k,preds in trainPredictions.items():\n",
    "    print('k: {} error rate: {} positive: {}'.format(k,getErrorRate(preds, 'income.train.txt.5k'), getPositives(preds)))\n",
    "\n",
    "print('------For test data---------')\n",
    "testDistWithoutIndex = getNormWithoutIndex(binarizedTrainData, binarizedTestData)\n",
    "testPredictions = getErrorRatesAndPositivePercentage(testDistWithoutIndex, 'income.train.txt.5k')"
   ]
  },
  {
   "cell_type": "code",
   "execution_count": null,
   "metadata": {},
   "outputs": [],
   "source": [
    "print('************************Using Manhattan distance**********************')\n",
    "print('------For dev data---------')\n",
    "devMDist = getNormWithoutIndex(binarizedTrainData, binarizedDevData, ord=1)\n",
    "devMPredictions = getErrorRatesAndPositivePercentage(devMDist, 'income.train.txt.5k')\n",
    "\n",
    "for k,preds in devMPredictions.items():\n",
    "    print('k: {} error rate: {} positive: {}'.format(k,getErrorRate(preds, 'income.dev.txt'), getPositives(preds)))\n",
    "    \n",
    "print('------For train data---------')\n",
    "trainDistWithoutIndex = getNormWithoutIndex(binarizedTrainData, binarizedTrainData)\n",
    "trainPredictions = getErrorRatesAndPositivePercentage(trainDistWithoutIndex, 'income.train.txt.5k')\n",
    "for k,preds in trainPredictions.items():\n",
    "    print('k: {} error rate: {} positive: {}'.format(k,getErrorRate(preds, 'income.train.txt.5k'), getPositives(preds)))"
   ]
  },
  {
   "cell_type": "code",
   "execution_count": null,
   "metadata": {},
   "outputs": [],
   "source": [
    "featureMapping2, unbinarizedTrainData2 = getRawFeatureMapAndBinarizedData(getAllData('income.train.txt.5k'))\n",
    "unbinarizedTrainData2 = getTranslatedOnFeatureMap(featureMapping2, getAllData('income.train.txt.5k'))\n",
    "unbinarizedDevData2 = getTranslatedOnFeatureMap(featureMapping2, getAllData('income.dev.txt'))\n",
    "unbinarizedTestData2 = getTranslatedOnFeatureMap(featureMapping2, getAllData('income.test.blind'))\n",
    "\n",
    "binarizedTrainData2 = getBinarizedData(unbinarizedTrainData2, 230)\n",
    "binarizedDevData2 = getBinarizedData(unbinarizedDevData2, 230)\n",
    "binarizedTestData2 = getBinarizedData(unbinarizedTestData2, 230)\n",
    "\n",
    "print('------For dev data---------')\n",
    "devDistWithoutIndex2 = getNormWithoutIndex(binarizedTrainData2, binarizedDevData2)\n",
    "devPredictions2 = getErrorRatesAndPositivePercentage(devDistWithoutIndex2, 'income.train.txt.5k')\n",
    "\n",
    "for k,preds in devPredictions2.items():\n",
    "    print('k: {} error rate: {} positive: {}'.format(k,getErrorRate(preds, 'income.dev.txt'), getPositives(preds)))\n",
    "\n",
    "print('------For train data---------')\n",
    "trainDistWithoutIndex2 = getNormWithoutIndex(binarizedTrainData2, binarizedTrainData2)\n",
    "trainPredictions2 = getErrorRatesAndPositivePercentage(trainDistWithoutIndex2, 'income.train.txt.5k')\n",
    "for k,preds in trainPredictions2.items():\n",
    "    print('k: {} error rate: {} positive: {}'.format(k,getErrorRate(preds, 'income.train.txt.5k'), getPositives(preds)))"
   ]
  }
 ],
 "metadata": {
  "kernelspec": {
   "display_name": "Python 3",
   "language": "python",
   "name": "python3"
  },
  "language_info": {
   "codemirror_mode": {
    "name": "ipython",
    "version": 3
   },
   "file_extension": ".py",
   "mimetype": "text/x-python",
   "name": "python",
   "nbconvert_exporter": "python",
   "pygments_lexer": "ipython3",
   "version": "3.7.1"
  }
 },
 "nbformat": 4,
 "nbformat_minor": 2
}
