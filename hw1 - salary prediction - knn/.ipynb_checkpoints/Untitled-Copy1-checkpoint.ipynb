{
 "cells": [
  {
   "cell_type": "code",
   "execution_count": 4,
   "metadata": {},
   "outputs": [
    {
     "name": "stdout",
     "output_type": "stream",
     "text": [
      "Pixiedust database opened successfully\n"
     ]
    },
    {
     "data": {
      "text/html": [
       "\n",
       "        <div style=\"margin:10px\">\n",
       "            <a href=\"https://github.com/ibm-watson-data-lab/pixiedust\" target=\"_new\">\n",
       "                <img src=\"https://github.com/ibm-watson-data-lab/pixiedust/raw/master/docs/_static/pd_icon32.png\" style=\"float:left;margin-right:10px\"/>\n",
       "            </a>\n",
       "            <span>Pixiedust version 1.1.15</span>\n",
       "        </div>\n",
       "        "
      ],
      "text/plain": [
       "<IPython.core.display.HTML object>"
      ]
     },
     "metadata": {},
     "output_type": "display_data"
    },
    {
     "name": "stdout",
     "output_type": "stream",
     "text": [
      "Unable to check latest version <urlopen error [WinError 10054] An existing connection was forcibly closed by the remote host>\n"
     ]
    }
   ],
   "source": [
    "import csv\n",
    "import numpy as np\n",
    "import pixiedust\n",
    "import math\n",
    "from collections import defaultdict\n",
    "from collections import Counter"
   ]
  },
  {
   "cell_type": "code",
   "execution_count": 5,
   "metadata": {},
   "outputs": [],
   "source": [
    "def getData(fileName):\n",
    "    with open(fileName) as trainTxt:\n",
    "        train = trainTxt.readlines()\n",
    "\n",
    "        #Getting all data except the target column\n",
    "        data = list(map(lambda s : s.strip().split(', '), train))\n",
    "    return data"
   ]
  },
  {
   "cell_type": "code",
   "execution_count": 6,
   "metadata": {},
   "outputs": [],
   "source": [
    "def getAllData(fileName):\n",
    "    with open(fileName) as trainTxt:\n",
    "        train = trainTxt.readlines()\n",
    "\n",
    "    #Getting all data except the target column\n",
    "    data = list(map(lambda s : s.strip().split(', '), train))\n",
    "        \n",
    "    sector = [line[1] for line in data]\n",
    "    education = [line[2] for line in data]\n",
    "    marital = [line[3] for line in data]\n",
    "    occ = [line[4] for line in data]\n",
    "    race = [line[5] for line in data]\n",
    "    gender = [line[6] for line in data]\n",
    "    country = [line[8] for line in data]\n",
    "    \n",
    "    age = [x/50 for x in list(map(int,[line[0] for line in data]))]\n",
    "    hours = [x/50 for x in list(map(int,[line[7] for line in data]))]\n",
    "    \n",
    "    return list(zip(age, sector, education, marital, occ, race, gender, country, hours))"
   ]
  },
  {
   "cell_type": "code",
   "execution_count": 7,
   "metadata": {},
   "outputs": [],
   "source": [
    "def getCategoricalFeaturesData(data):\n",
    "    sector = [line[1] for line in data]\n",
    "    education = [line[2] for line in data]\n",
    "    marital = [line[3] for line in data]\n",
    "    occ = [line[4] for line in data]\n",
    "    race = [line[5] for line in data]\n",
    "    gender = [line[6] for line in data]\n",
    "    country = [line[8] for line in data]\n",
    "    \n",
    "    return list(zip(sector, education, marital, occ, race, gender, country))"
   ]
  },
  {
   "cell_type": "code",
   "execution_count": 8,
   "metadata": {},
   "outputs": [],
   "source": [
    "def getNumericalFeaturesData(data):\n",
    "    age = [x/50 for x in list(map(int,[line[0] for line in data]))]\n",
    "    hours = [x/50 for x in list(map(int,[line[7] for line in data]))]\n",
    "    \n",
    "    return list(zip(age, hours))"
   ]
  },
  {
   "cell_type": "code",
   "execution_count": 9,
   "metadata": {},
   "outputs": [],
   "source": [
    "def getTarget(data):\n",
    "    return [line[-1] for line in data]"
   ]
  },
  {
   "cell_type": "code",
   "execution_count": 42,
   "metadata": {},
   "outputs": [],
   "source": [
    "def getFeatureMapAndBinarizedData(trainData):\n",
    "    featureMapping = {}\n",
    "    encodedTrainData = []\n",
    "    \n",
    "    for row in trainData:\n",
    "        newRow = []\n",
    "        for j,x in enumerate(row):\n",
    "            if isinstance(x,str) and j not in [0,8]:\n",
    "                feature = (j,x)\n",
    "                if feature not in featureMapping:\n",
    "                    featureMapping[feature] = len(featureMapping)\n",
    "                newRow.append(featureMapping[feature])\n",
    "            elif j in [0,8]:\n",
    "                newRow.append(x)\n",
    "            else:\n",
    "                print('unusual')\n",
    "        encodedTrainData.append(newRow)\n",
    "        \n",
    "    return featureMapping, encodedTrainData"
   ]
  },
  {
   "cell_type": "code",
   "execution_count": 41,
   "metadata": {},
   "outputs": [],
   "source": [
    "def getTranslatedOnFeatureMap(featureMapping, data):\n",
    "    translatedData = []\n",
    "    \n",
    "    for row in data:\n",
    "        newRow = []\n",
    "        for j,x in enumerate(row):\n",
    "            feature = (j,x)\n",
    "            if j not in [0,8]:\n",
    "                if feature in featureMapping.keys():\n",
    "                    newRow.append(featureMapping[feature])\n",
    "            elif j in [0,8]:\n",
    "                newRow.append(x)\n",
    "        translatedData.append(newRow)\n",
    "    return translatedData"
   ]
  },
  {
   "cell_type": "code",
   "execution_count": 44,
   "metadata": {},
   "outputs": [],
   "source": [
    "def getBinarizedData(unbinarizedData, numberOfFeatures):\n",
    "    finalData = np.zeros((len(unbinarizedData), numberOfFeatures))\n",
    "    for c, row in enumerate(unbinarizedData):\n",
    "        for i,x in enumerate(row):\n",
    "            if isinstance(x,int) and i not in [0,8]:\n",
    "                finalData[c][x] = 1\n",
    "            elif isinstance(x,float) and i in [0,8]:\n",
    "                finalData[c][i] = x\n",
    "    return finalData"
   ]
  },
  {
   "cell_type": "code",
   "execution_count": 13,
   "metadata": {},
   "outputs": [],
   "source": [
    "def getLingAlgNorm(binarizedTrainData, binarizedDevData, k):\n",
    "    eucs = defaultdict(int)\n",
    "    for c,devRow in enumerate(binarizedDevData):\n",
    "        dist = []\n",
    "        for x,tRow in enumerate(binarizedTrainData):\n",
    "            dist.append((x,np.linalg.norm(np.array(tRow)-np.array(devRow))))\n",
    "        eucs[c] = sorted(dist, key = lambda s : s[1])[:k]\n",
    "    return eucs"
   ]
  },
  {
   "cell_type": "code",
   "execution_count": 14,
   "metadata": {},
   "outputs": [],
   "source": [
    "def getEucDist(trainRow, testRow):\n",
    "    n = len(trainRow)\n",
    "    return math.sqrt(sum([ (np.array(trainRow[i]) - np.array(testRow[i])) **2 for i in range(n)] ))"
   ]
  },
  {
   "cell_type": "code",
   "execution_count": 15,
   "metadata": {},
   "outputs": [],
   "source": [
    "def getL2NormWithIndex(train, test):\n",
    "    dist = []\n",
    "    for row in test:\n",
    "        dist.append([(i,d) for i,d in enumerate(np.linalg.norm(train - row, axis = 1))])\n",
    "    return dist"
   ]
  },
  {
   "cell_type": "code",
   "execution_count": 16,
   "metadata": {},
   "outputs": [],
   "source": [
    "def getL2NormWithoutIndex(train, test):\n",
    "    dist = []\n",
    "    for row in test:\n",
    "        dist.append(np.linalg.norm(train - row, axis = 1))\n",
    "    return dist"
   ]
  },
  {
   "cell_type": "code",
   "execution_count": 17,
   "metadata": {},
   "outputs": [],
   "source": [
    "def getPredictions(topKElements):\n",
    "    trainIncome = getTarget(getData('income.train.txt.5k'))\n",
    "    predictions = []\n",
    "    \n",
    "    for i in range(len(topKElements)):\n",
    "#         predictedLabelsIndex = [trainIncome[j] for dist,j in topKElements[i]]\n",
    "        predictedLabelsIndex = [trainIncome[j] for j in topKElements[i]]\n",
    "        predictedLabel = Counter(predictedLabelsIndex).most_common(1)[0][0]\n",
    "        predictions.append(predictedLabel)\n",
    "    return predictions"
   ]
  },
  {
   "cell_type": "code",
   "execution_count": 18,
   "metadata": {},
   "outputs": [],
   "source": [
    "def getTopKElements(l,k):\n",
    "    topK = []\n",
    "    i = 0\n",
    "    \n",
    "    while len(topK) < k:\n",
    "        topK.append((l[i],i))\n",
    "        for j in range(i+1,len(l)):\n",
    "            if topK[i][0] > l[j]:\n",
    "                topK[i] = (l[j],j)\n",
    "                l[i], l[j] = l[j], l[i]\n",
    "        i+=1\n",
    "    return topK"
   ]
  },
  {
   "cell_type": "code",
   "execution_count": 58,
   "metadata": {},
   "outputs": [],
   "source": [
    "def getErrorRate(predictions, fileName):\n",
    "    actuals = getTarget(getData(fileName))\n",
    "    error = 0\n",
    "    for i in range(len(predictions)):\n",
    "        if actuals[i] != predictions[i]:\n",
    "            error+=1\n",
    "    return error/10"
   ]
  },
  {
   "cell_type": "code",
   "execution_count": 20,
   "metadata": {},
   "outputs": [],
   "source": [
    "def getPositives(predictions):\n",
    "    return Counter(predictions)['>50K']/10"
   ]
  },
  {
   "cell_type": "code",
   "execution_count": 60,
   "metadata": {},
   "outputs": [],
   "source": [
    "def getErrorRatesAndPositivePercentage(distWithoutIndex, fileName):\n",
    "    kList = [1,3,5,7,9,99,999]\n",
    "    \n",
    "    topKElements = defaultdict(list)\n",
    "    predictions = defaultdict(list)\n",
    "    error = defaultdict(list)\n",
    "    positives = defaultdict(list)\n",
    "\n",
    "    for k in kList:\n",
    "    #     topKElements[k] = [getTopKElements(devDistWithoutIndex[d],k) for d in range(len(devDistWithoutIndex))]\n",
    "        topKElements[k] = [np.argpartition(x,k, axis=0)[:k] for x in [devDistWithoutIndex[i] for i in range(len(devDistWithoutIndex))]]\n",
    "#         print(topKElements[k][:3])\n",
    "        predictions[k] = getPredictions(topKElements[k])\n",
    "        error[k] = getErrorRate(predictions[k], fileName)\n",
    "        positives[k] = getPositives(predictions[k])\n",
    "\n",
    "    [print('k: {} error rate: {}% positive rate: {}%'.format(k,error[k], positives[k])) for k in kList]\n",
    "    return error, positives"
   ]
  },
  {
   "cell_type": "code",
   "execution_count": 59,
   "metadata": {},
   "outputs": [
    {
     "name": "stdout",
     "output_type": "stream",
     "text": [
      "------For dev data---------\n",
      "k: 1 error rate: 23.6 positive rate: 26.8%\n",
      "k: 3 error rate: 20.1 positive rate: 24.9%\n",
      "k: 5 error rate: 18.5 positive rate: 24.5%\n",
      "k: 7 error rate: 17.2 positive rate: 23.6%\n",
      "k: 9 error rate: 17.2 positive rate: 22.0%\n",
      "k: 99 error rate: 16.5 positive rate: 16.3%\n",
      "k: 999 error rate: 20.8 positive rate: 5.0%\n"
     ]
    }
   ],
   "source": [
    "trainTarget = getTarget(getData('income.train.txt.5k'))\n",
    "devTarget = getTarget(getData('income.dev.txt'))\n",
    "\n",
    "featureMapping, unbinarizedTrainData = getFeatureMapAndBinarizedData(getAllData('income.train.txt.5k'))\n",
    "unbinarizedDevData = getTranslatedOnFeatureMap(featureMapping, getAllData('income.dev.txt'))\n",
    "unbinarizedTestData = getTranslatedOnFeatureMap(featureMapping, getAllData('income.test.blind'))\n",
    "\n",
    "# print(unbinarizedTrainData[:5])\n",
    "# print('--------------------------')\n",
    "# print(unbinarizedDevData[285])\n",
    "# print('--------------------------')\n",
    "# print(featureMapping)\n",
    "# print('--------------------------')\n",
    "# print(devFeatureMapping)\n",
    "# print([x for x in unbinarizedTrainData[1578]])\n",
    "# print([x for x in unbinarizedDevData[0]])\n",
    "\n",
    "binarizedTrainData = getBinarizedData(unbinarizedTrainData, 92)\n",
    "binarizedDevData = getBinarizedData(unbinarizedDevData, 92)\n",
    "binarizedTestData = getBinarizedData(unbinarizedTestData, 92)\n",
    "\n",
    "# print(binarizedTrainData[:5])\n",
    "# print('--------------------------')\n",
    "# print(binarizedDevData[:5])\n",
    "# print('--------------------------')\n",
    "# print(binarizedDevData[285])\n",
    "\n",
    "print('------For dev data---------')\n",
    "devDistWithoutIndex = getL2NormWithoutIndex(binarizedTrainData, binarizedDevData)\n",
    "devErrorRates, devPositives = getErrorRatesAndPositivePercentage(devDistWithoutIndex, 'income.dev.txt')\n",
    "\n",
    "# print('------For train data---------')\n",
    "# testDistWithoutIndex = getL2NormWithoutIndex(binarizedTrainData, binarizedTestData)\n",
    "# testErrorRates, testPositives = getErrorRatesAndPositivePercentage(testDistWithoutIndex)"
   ]
  },
  {
   "cell_type": "code",
   "execution_count": 35,
   "metadata": {},
   "outputs": [
    {
     "name": "stdout",
     "output_type": "stream",
     "text": [
      "0.647765389628066\n",
      "0.0\n",
      "0.0\n",
      "[array([215], dtype=int64), array([411], dtype=int64), array([22], dtype=int64)]\n",
      "[array([1578, 4396, 4092], dtype=int64), array([2314, 1637, 3960], dtype=int64), array([4521, 4376, 4512], dtype=int64)]\n",
      "k: 1 error rate: 32.1 positive rate: 22.1%\n",
      "k: 3 error rate: 26.1 positive rate: 16.1%\n",
      "None\n"
     ]
    }
   ],
   "source": [
    "# print([devDistWithoutIndex[x] for x in range(1)])\n",
    "# print(devDistWithoutIndex[0][0])\n",
    "# print(devDistWithoutIndex[0][1578])\n",
    "# print(devDistWithoutIndex[0][4396])\n",
    "# print([x for x in devDistWithoutIndex[0]])\n",
    "# print(\"where there's 0: {}\".format([i for i in range(1) if 0 in devDistWithoutIndex[i]]))\n",
    "f = getDevErrorRates(devDistWithoutIndex)\n",
    "print(f)"
   ]
  },
  {
   "cell_type": "code",
   "execution_count": 233,
   "metadata": {},
   "outputs": [
    {
     "name": "stdout",
     "output_type": "stream",
     "text": [
      "k=1 error rate: 0.5% Positive %: 0.0% is \n"
     ]
    }
   ],
   "source": [
    "actuals = getTarget(getData('income.dev.txt'))\n",
    "\n",
    "error = 0\n",
    "for i in range(len(devPredictions)):\n",
    "    if actuals[i] != devPredictions[i]:\n",
    "        error+=1\n",
    "        \n",
    "print('k={} error rate: {}% Positive %: {}% is '.format(1,error/10, Counter(devPredictions)['>50K']/10))"
   ]
  },
  {
   "cell_type": "code",
   "execution_count": 148,
   "metadata": {},
   "outputs": [
    {
     "name": "stdout",
     "output_type": "stream",
     "text": [
      "---------------------------[0.64776539 0.17204651 0.18867962 ... 0.86162637 0.11661904 0.49030603]\n",
      "----------Top K -----------------[(0.0, 0), (0.0, 1), (0.0, 2)]\n"
     ]
    }
   ],
   "source": [
    "print('---------------------------{}'.format(devDistWithoutIndex[0]))\n",
    "print('----------Top K -----------------{}'.format(getTopKElements(devDistWithoutIndex[2],3)))"
   ]
  },
  {
   "cell_type": "code",
   "execution_count": 149,
   "metadata": {},
   "outputs": [
    {
     "name": "stdout",
     "output_type": "stream",
     "text": [
      "-------------sorted top k--------------[(22, 0.0), (210, 0.0), (325, 0.0)]\n"
     ]
    }
   ],
   "source": [
    "# [i, j for i, j in devDist]\n",
    "# [(i, dist) for i, dist in enumerate(devDist[:5])]\n",
    "\n",
    "# print('---------------------------{}'.format(devDistWithIndex[0]))\n",
    "print('-------------sorted top k--------------{}'.format(sorted(devDistWithIndex[2], key=lambda s:s[1])[:3]))\n",
    "# print(getTopKElements([44,32,10,56,900,543,2,67], 3))\n",
    "# [(i,getTopKElements(dist,1)) for i,dist in enumerate(devDist)]"
   ]
  },
  {
   "cell_type": "code",
   "execution_count": null,
   "metadata": {},
   "outputs": [],
   "source": []
  }
 ],
 "metadata": {
  "kernelspec": {
   "display_name": "Python 3",
   "language": "python",
   "name": "python3"
  },
  "language_info": {
   "codemirror_mode": {
    "name": "ipython",
    "version": 3
   },
   "file_extension": ".py",
   "mimetype": "text/x-python",
   "name": "python",
   "nbconvert_exporter": "python",
   "pygments_lexer": "ipython3",
   "version": "3.7.1"
  }
 },
 "nbformat": 4,
 "nbformat_minor": 2
}
