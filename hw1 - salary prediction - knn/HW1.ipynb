{
 "cells": [
  {
   "cell_type": "markdown",
   "metadata": {},
   "source": [
    "# HW1"
   ]
  },
  {
   "cell_type": "markdown",
   "metadata": {},
   "source": [
    "### Loading the data from cwd with csv module"
   ]
  },
  {
   "cell_type": "code",
   "execution_count": null,
   "metadata": {},
   "outputs": [],
   "source": [
    "import csv\n",
    "import numpy as np\n",
    "import pixiedust\n",
    "from collections import defaultdict"
   ]
  },
  {
   "cell_type": "code",
   "execution_count": null,
   "metadata": {},
   "outputs": [],
   "source": [
    "train = list(csv.reader(open('income.train.txt.5k', 'r')))\n",
    "dev = list(csv.reader(open('income.dev.txt', 'r')))\n",
    "# print('train type: {}'.format(type(train)))\n",
    "# print('dev type: {}'.format(type(dev)))"
   ]
  },
  {
   "cell_type": "markdown",
   "metadata": {},
   "source": [
    "### Writing to a csv for easier handling"
   ]
  },
  {
   "cell_type": "code",
   "execution_count": null,
   "metadata": {},
   "outputs": [],
   "source": [
    "with open('income.train.txt.5k', 'r') as readTrainTxt:\n",
    "    rows = (csv.reader(readTrainTxt))\n",
    "    with open('income.train.csv', 'w') as writeTrainCSV:\n",
    "        writer = csv.writer(writeTrainCSV)\n",
    "        for row in rows:\n",
    "            writer.writerow(row)"
   ]
  },
  {
   "cell_type": "markdown",
   "metadata": {},
   "source": [
    "### Handling of data text file without csv"
   ]
  },
  {
   "cell_type": "code",
   "execution_count": null,
   "metadata": {},
   "outputs": [],
   "source": [
    "with open('income.train.txt.5k', 'r') as trainFile:\n",
    "    trainTxt = trainFile.readlines()\n",
    "    with open('income.train.csv', 'w') as csvTrainFile:\n",
    "        #Adding the headers\n",
    "        csvTrainFile.write('age,sector,education,marital-status,occupation,race,gender,hours-per-week,country-of-origin,target\\n')\n",
    "        for line in trainTxt:\n",
    "            csvTrainFile.write(line)"
   ]
  },
  {
   "cell_type": "markdown",
   "metadata": {},
   "source": [
    "## Part 1 - Data Pre-processing (Feature Map) "
   ]
  },
  {
   "cell_type": "code",
   "execution_count": null,
   "metadata": {},
   "outputs": [],
   "source": [
    "trainRecs = 0\n",
    "trainPos = 0\n",
    "for age, sector, ed, ms, occ, race, gender, hours, country, target in train:\n",
    "#     print(\"age: {} sector: {} ed: {} ms: {} occ: {} -----------target: {}\".format(age, sector, ed, ms, occ, target))\n",
    "    trainRecs += 1\n",
    "    trainPos += 1 if target == ' >50K' else 0\n",
    "print('number of records in training set: {}'.format(trainRecs))\n",
    "print('number of positive records in training set: {}'.format(trainPos))\n",
    "print('percentage of positive records in training set: {}'.format(trainPos/trainRecs*100))"
   ]
  },
  {
   "cell_type": "markdown",
   "metadata": {},
   "source": [
    "### 1) What are the positive % of training data?"
   ]
  },
  {
   "cell_type": "markdown",
   "metadata": {},
   "source": [
    "Total number of records in training data = 5000"
   ]
  },
  {
   "cell_type": "markdown",
   "metadata": {},
   "source": [
    "Total number of positive data = 1251"
   ]
  },
  {
   "cell_type": "markdown",
   "metadata": {},
   "source": [
    "% of positive data = ~25%"
   ]
  },
  {
   "cell_type": "code",
   "execution_count": null,
   "metadata": {},
   "outputs": [],
   "source": [
    "devRecs = 0\n",
    "devPos = 0\n",
    "for age, sector, ed, ms, occ, race, gender, hours, country, target in dev:\n",
    "#     print(\"age: {} sector: {} ed: {} ms: {} occ: {} -----------target: {}\".format(age, sector, ed, ms, occ, target))\n",
    "    devRecs += 1\n",
    "    devPos += 1 if target == ' >50K' else 0\n",
    "print('number of records in dev set: {}'.format(devRecs))\n",
    "print('number of positive records in dev set: {}'.format(devPos))\n",
    "print('percentage of positive records in dev set: {}'.format(devPos/devRecs*100))"
   ]
  },
  {
   "cell_type": "markdown",
   "metadata": {},
   "source": [
    "### 2) Youngest and oldest ages in training data?"
   ]
  },
  {
   "cell_type": "markdown",
   "metadata": {},
   "source": [
    "### Least and most amount of hours per week do people in this set work? "
   ]
  },
  {
   "cell_type": "code",
   "execution_count": null,
   "metadata": {},
   "outputs": [],
   "source": [
    "ageTrain = [age for (age, sector, ed, ms, occ, race, gender, hours, country, target) in train]\n",
    "hoursTrain = [hours for (age, sector, ed, ms, occ, race, gender, hours, country, target) in train]\n",
    "# print(ageTrain)\n",
    "print('min age: {}'.format(min(ageTrain)))\n",
    "print('max age: {}'.format(max(ageTrain)))\n",
    "# print('---------------------------------')\n",
    "# print(hoursTrain)\n",
    "print('min hours: {}'.format(min(hoursTrain)))\n",
    "print('max hours: {}'.format(max(hoursTrain)))"
   ]
  },
  {
   "cell_type": "code",
   "execution_count": null,
   "metadata": {},
   "outputs": [],
   "source": [
    "def getData(fileName):\n",
    "    with open(fileName) as trainTxt:\n",
    "        train = trainTxt.readlines()\n",
    "\n",
    "        #Getting all data except the target column\n",
    "        data = list(map(lambda s : s.strip().split(', '), train))\n",
    "    return data"
   ]
  },
  {
   "cell_type": "markdown",
   "metadata": {},
   "source": [
    "### Extracting the values of fields in lists"
   ]
  },
  {
   "cell_type": "code",
   "execution_count": null,
   "metadata": {},
   "outputs": [],
   "source": [
    "def getAllData(fileName):\n",
    "    with open(fileName) as trainTxt:\n",
    "        train = trainTxt.readlines()\n",
    "\n",
    "    #Getting all data except the target column\n",
    "    data = list(map(lambda s : s.strip().split(', '), train))\n",
    "        \n",
    "    sector = [line[1] for line in data]\n",
    "    education = [line[2] for line in data]\n",
    "    marital = [line[3] for line in data]\n",
    "    occ = [line[4] for line in data]\n",
    "    race = [line[5] for line in data]\n",
    "    gender = [line[6] for line in data]\n",
    "    country = [line[8] for line in data]\n",
    "    \n",
    "    age = [x/50 for x in list(map(int,[line[0] for line in data]))]\n",
    "    hours = [x/50 for x in list(map(int,[line[7] for line in data]))]\n",
    "    \n",
    "    return list(zip(age, sector, education, marital, occ, race, gender, country, hours))"
   ]
  },
  {
   "cell_type": "code",
   "execution_count": null,
   "metadata": {},
   "outputs": [],
   "source": [
    "def getCategoricalFeaturesData(data):\n",
    "    sector = [line[1] for line in data]\n",
    "    education = [line[2] for line in data]\n",
    "    marital = [line[3] for line in data]\n",
    "    occ = [line[4] for line in data]\n",
    "    race = [line[5] for line in data]\n",
    "    gender = [line[6] for line in data]\n",
    "    country = [line[8] for line in data]\n",
    "    \n",
    "    return list(zip(sector, education, marital, occ, race, gender, country))"
   ]
  },
  {
   "cell_type": "code",
   "execution_count": null,
   "metadata": {},
   "outputs": [],
   "source": [
    "def getNumericalFeaturesData(data):\n",
    "    age = [x/50 for x in list(map(int,[line[0] for line in data]))]\n",
    "    hours = [x/50 for x in list(map(int,[line[7] for line in data]))]\n",
    "    \n",
    "    return list(zip(age, hours))"
   ]
  },
  {
   "cell_type": "code",
   "execution_count": null,
   "metadata": {},
   "outputs": [],
   "source": [
    "def getTarget(data):\n",
    "    return [line[-1] for line in data]"
   ]
  },
  {
   "cell_type": "code",
   "execution_count": null,
   "metadata": {},
   "outputs": [],
   "source": [
    "trainTarget = getTarget(getData('income.train.txt.5k'))"
   ]
  },
  {
   "cell_type": "code",
   "execution_count": null,
   "metadata": {},
   "outputs": [],
   "source": [
    "trainCategoricalData = getCategoricalFeaturesData(getData('income.train.txt.5k'))"
   ]
  },
  {
   "cell_type": "code",
   "execution_count": null,
   "metadata": {},
   "outputs": [],
   "source": [
    "trainNumericalData = getNumericalFeaturesData(getData('income.train.txt.5k'))"
   ]
  },
  {
   "cell_type": "markdown",
   "metadata": {},
   "source": [
    "We've now encoded all the features in training data according to index featureMapping. "
   ]
  },
  {
   "cell_type": "markdown",
   "metadata": {},
   "source": [
    "Each of these rows can be reverse-looked-up in featureMapping to retrieve their values. "
   ]
  },
  {
   "cell_type": "markdown",
   "metadata": {},
   "source": [
    "However, these values are not yet binarized. This is being done in following section. "
   ]
  },
  {
   "cell_type": "markdown",
   "metadata": {},
   "source": [
    "### 3) Why do we need to categorize all categorical fields? "
   ]
  },
  {
   "cell_type": "markdown",
   "metadata": {},
   "source": [
    "Fields or their values have no meaning for the model unless they're all values of a given field are encoded using a standard scheme for representation purpose. Hence, all categorical fields are encoded to represent the spectrum of values assumed in rows of the dataset. \n",
    "\n",
    "In other words, age, sector, education, etc are fields having varied values which needs to be encoded using a standard scheme for model to understand. That is, age=30 or age=56 should be represented as (0,'30') and (0,'56') respectively. Similarly, sector=Private and sector='State-gov' is represented as (1,'Private') and (1,'State-gov') respectively. \n",
    "\n",
    "In this way, the model realized that features encountered with first index as 0 represent age, 1 represents sector, 2 represents education, 3 represents marital-status, 4 represents occupation, 5 represents race, 6 represents gender, 7 represents number-of-hours-per-week and 8 represents country.  "
   ]
  },
  {
   "cell_type": "markdown",
   "metadata": {},
   "source": [
    "### 4) Without considering _age_ and _hours_, what is the maximum possible Euclidean and Manhattan distances between two training examples? "
   ]
  },
  {
   "cell_type": "markdown",
   "metadata": {},
   "source": [
    "Barring age, hours and target fields there are seven fields which can be completely different. Based on this, we compute maximum Euclidean and Manhattan distances as follows: "
   ]
  },
  {
   "cell_type": "markdown",
   "metadata": {},
   "source": [
    "Euclidean Distance = $\\sqrt{(1-0)^2 + (1-0)^2 + (1-0)^2 + (1-0)^2 + (1-0)^2 + (1-0)^2 + (1-0)^2} = \\sqrt{7}$"
   ]
  },
  {
   "cell_type": "markdown",
   "metadata": {},
   "source": [
    "Manhattan Distance = $\\mid(1-0)\\mid+\\mid(1-0)\\mid = 7$"
   ]
  },
  {
   "cell_type": "markdown",
   "metadata": {},
   "source": [
    "### 5) Why do we not want to binarize _age_ and _hours_? What if we did? How should we define the distances on these two dimensions so that each field has equal weight? "
   ]
  },
  {
   "cell_type": "code",
   "execution_count": null,
   "metadata": {},
   "outputs": [],
   "source": []
  },
  {
   "cell_type": "markdown",
   "metadata": {},
   "source": [
    "### 6) How many features do you have in total? How many features do you allocate for each of the 9 fields? "
   ]
  },
  {
   "cell_type": "code",
   "execution_count": null,
   "metadata": {},
   "outputs": [],
   "source": [
    "featureMapping = {}\n",
    "\n",
    "for row in data:\n",
    "    for j, x in enumerate(row):\n",
    "        feature = (j,x)\n",
    "        if feature not in featureMapping:\n",
    "            featureMapping[feature] = len(featureMapping)\n",
    "        elif feature not in tempMap:\n",
    "            tempMap[feature] = len(tempMap)\n",
    "print(\"featureMapping: {}\".format(featureMapping))\n",
    "print('len of featureMapping: {}'.format(len(featureMapping)))"
   ]
  },
  {
   "cell_type": "markdown",
   "metadata": {},
   "source": [
    "### There are 230 features including age and number-of-hours per week. "
   ]
  },
  {
   "cell_type": "code",
   "execution_count": null,
   "metadata": {},
   "outputs": [],
   "source": [
    "featureCount = defaultdict(list)\n",
    "for featureIndex, featureValue in featureMapping.keys():\n",
    "    featureCount[featureIndex].append(featureValue)\n",
    "    \n",
    "print(featureCount)\n",
    "print([(x, len(featureCount[x])) for x in featureCount.keys()])"
   ]
  },
  {
   "cell_type": "markdown",
   "metadata": {},
   "source": [
    "| Field |Field Index | Number of features |\n",
    "|-------|---------|-----------|\n",
    "|Age | 0 | 67|\n",
    "|Sector | 1 |  7|\n",
    "|Education | 2 | 16|\n",
    "|Marital-Status | 3 | 7|\n",
    "|Occupation | 4 | 14|\n",
    "|Race | 5 | 5|\n",
    "|Gender | 6 | 2|\n",
    "|Hours-per-week | 7 | 73|\n",
    "|Country | 8 | 39|"
   ]
  },
  {
   "cell_type": "markdown",
   "metadata": {},
   "source": [
    "### 7) How many features would you have if you binarize all the fields? "
   ]
  },
  {
   "cell_type": "code",
   "execution_count": null,
   "metadata": {},
   "outputs": [],
   "source": [
    "def getFeatureMapAndBinarizedData(data):\n",
    "    featureMapping = {}\n",
    "    binarizedData = []\n",
    "    \n",
    "    for row in data:\n",
    "        newRow = []\n",
    "        for j,x in enumerate(row):\n",
    "            if isinstance(x,str):\n",
    "                feature = (j,x)\n",
    "                if feature not in featureMapping:\n",
    "                    featureMapping[feature] = len(featureMapping)\n",
    "                newRow.append(featureMapping[feature])\n",
    "            else:\n",
    "                newRow.append(x)\n",
    "        binarizedData.append(newRow)\n",
    "    return featureMapping, binarizedData"
   ]
  },
  {
   "cell_type": "code",
   "execution_count": null,
   "metadata": {},
   "outputs": [],
   "source": [
    "featureMapping, unbinarizedData = getFeatureMapAndBinarizedData(getAllData('income.train.txt.5k'))\n",
    "\n",
    "print(\"featureMapping: {}\".format(featureMapping))\n",
    "# print('Features not in featureMapping: {}'.format(sorted(featureMapping, key=lambda s : s[0])))\n",
    "# print('len of featureMapping: {}'.format(len(featureMapping)))\n",
    "print('---------------------')\n",
    "print('binarizedData: {}'.format(unbinarizedData))"
   ]
  },
  {
   "cell_type": "code",
   "execution_count": null,
   "metadata": {},
   "outputs": [],
   "source": [
    "d = getAllData('income.dev.txt')\n",
    "print(d[0])\n",
    "for row in d:\n",
    "    print(row)\n",
    "    for j,x in enumerate(row):\n",
    "        if isinstance(x,str):\n",
    "            if (j,x) in featureMapping.keys():\n",
    "                print('{},{} is there in featuremap'.format(j,x)) \n",
    "            else:\n",
    "                print('-----------{},{} is not there in featuremap'.format(j,x)) "
   ]
  },
  {
   "cell_type": "code",
   "execution_count": null,
   "metadata": {},
   "outputs": [],
   "source": [
    "def getTranslatedOnFeatureMap(featureMapping, data):\n",
    "    translatedData = []\n",
    "    \n",
    "    for row in data:\n",
    "        newRow = []\n",
    "        for j,x in enumerate(row):\n",
    "            feature = (j,x)\n",
    "            if feature in featureMapping.keys():\n",
    "                newRow.append(featureMapping[feature])\n",
    "            else:\n",
    "                newRow.append(x)\n",
    "        translatedData.append(newRow)\n",
    "    return translatedData"
   ]
  },
  {
   "cell_type": "markdown",
   "metadata": {},
   "source": [
    "### Calculating Euclidean distance"
   ]
  },
  {
   "cell_type": "code",
   "execution_count": null,
   "metadata": {},
   "outputs": [],
   "source": [
    "np.shape(binarizedData)"
   ]
  },
  {
   "cell_type": "code",
   "execution_count": null,
   "metadata": {},
   "outputs": [],
   "source": [
    "finalData = np.zeros((5000,92))"
   ]
  },
  {
   "cell_type": "code",
   "execution_count": null,
   "metadata": {},
   "outputs": [],
   "source": [
    "def getBinarizedData(unbinarizedData, numberOfFeatures):\n",
    "    finalData = np.zeros((len(unbinarizedData), numberOfFeatures))\n",
    "    for c, row in enumerate(unbinarizedData):\n",
    "        for i,x in enumerate(row):\n",
    "            if isinstance(x,int):\n",
    "                finalData[c][i] = 1\n",
    "            elif isinstance(x,float):\n",
    "                finalData[c][i] = x\n",
    "    return finalData"
   ]
  },
  {
   "cell_type": "code",
   "execution_count": null,
   "metadata": {},
   "outputs": [],
   "source": [
    "finalData = getBinarizedData(unbinarizedData)"
   ]
  },
  {
   "cell_type": "code",
   "execution_count": null,
   "metadata": {},
   "outputs": [],
   "source": [
    "print(np.linalg.norm(finalData[1] - finalData[2]))"
   ]
  },
  {
   "cell_type": "code",
   "execution_count": null,
   "metadata": {},
   "outputs": [],
   "source": [
    "finalData.shape"
   ]
  },
  {
   "cell_type": "code",
   "execution_count": null,
   "metadata": {},
   "outputs": [],
   "source": [
    "[(i,j) for (i,j) in enumerate(finalData)]"
   ]
  },
  {
   "cell_type": "code",
   "execution_count": null,
   "metadata": {},
   "outputs": [],
   "source": [
    "eucTrain = defaultdict(int)\n",
    "for i, d in enumerate(finalData):\n",
    "    eucTrain[i] = np.linalg.norm(d)\n",
    "print(eucTrain)"
   ]
  },
  {
   "cell_type": "markdown",
   "metadata": {},
   "source": [
    "#### Gentle introduction to norms."
   ]
  },
  {
   "cell_type": "markdown",
   "metadata": {},
   "source": [
    "By default np.linalg.norm gives L2 norm that is Euclidean distance wrt origin that is sqrt(sum(square of difference of distance of point from origin))"
   ]
  },
  {
   "cell_type": "code",
   "execution_count": null,
   "metadata": {},
   "outputs": [],
   "source": [
    "# euc[i] = np.linalg.norm(d)\n",
    "math.sqrt(sum([x**2 for x in finalData[0]]))\n",
    "# math.sqrt(sum([x**2 for x in np.arange(9)-4]))"
   ]
  },
  {
   "cell_type": "code",
   "execution_count": null,
   "metadata": {},
   "outputs": [],
   "source": [
    "# print(finalData.shape)\n",
    "# print(finalData[2].shape)\n",
    "print(np.linalg.norm(finalData - finalData[2]))\n",
    "print(finalData - finalData[2])\n",
    "print((finalData - finalData[2]).shape)"
   ]
  },
  {
   "cell_type": "markdown",
   "metadata": {},
   "source": [
    "### Try linalg.norm(finalData - finalData[1]) and see if it's equal to manually calculated Euclidean distance between the two. "
   ]
  },
  {
   "cell_type": "code",
   "execution_count": null,
   "metadata": {},
   "outputs": [],
   "source": [
    "print(np.linalg.norm(finalData - finalData[2]))"
   ]
  },
  {
   "cell_type": "markdown",
   "metadata": {},
   "source": [
    "## 2) *k*-Nearest Neighbor Classification"
   ]
  },
  {
   "cell_type": "markdown",
   "metadata": {},
   "source": [
    "### 1. Implementing basic *k*-NN Classifier (with Euclidean distance)"
   ]
  },
  {
   "cell_type": "markdown",
   "metadata": {},
   "source": [
    "#### q1) Is there any work in training after feature map? - No"
   ]
  },
  {
   "cell_type": "markdown",
   "metadata": {},
   "source": [
    "#### q2) What's the time complexity *k*-NN to test one example (dimensionality *d*, dize of training set |*D*|)"
   ]
  },
  {
   "cell_type": "markdown",
   "metadata": {},
   "source": [
    "#### q3) Do you really need to sort the distances first and then choose the top *k*?"
   ]
  },
  {
   "cell_type": "markdown",
   "metadata": {},
   "source": [
    "### 2. Why *k* in *k*-NN has to be an odd number? "
   ]
  },
  {
   "cell_type": "markdown",
   "metadata": {},
   "source": [
    "To get a majority vote in case of equal distribution of votes between neighbors, having odd number of *k* is necessary. "
   ]
  },
  {
   "cell_type": "markdown",
   "metadata": {},
   "source": [
    "### 3. Evaluate *k*-NN on the dev set and report the error rate and predicted positive rate for k = 1,3,5,7,9,99,999,9999."
   ]
  },
  {
   "cell_type": "code",
   "execution_count": null,
   "metadata": {},
   "outputs": [],
   "source": [
    "dev = getAllData('income.dev.txt')\n",
    "print(len(dev))"
   ]
  },
  {
   "cell_type": "code",
   "execution_count": null,
   "metadata": {},
   "outputs": [],
   "source": [
    "print(dev[0:5])"
   ]
  },
  {
   "cell_type": "code",
   "execution_count": null,
   "metadata": {},
   "outputs": [],
   "source": [
    "devFeatureMap, unbinarizedDevData = getFeatureMapAndBinarizedData(dev)\n",
    "\n",
    "# print(devFeatureMap)\n",
    "# print('----------------------------------------------')\n",
    "print(unbinarizedDevData)"
   ]
  },
  {
   "cell_type": "code",
   "execution_count": null,
   "metadata": {},
   "outputs": [],
   "source": [
    "finalDevData = np.zeros((1000,92))"
   ]
  },
  {
   "cell_type": "code",
   "execution_count": null,
   "metadata": {},
   "outputs": [],
   "source": [
    "finalDevData = getBinarizedData(unbinarizedDevData)\n",
    "print(finalDevData.shape)"
   ]
  },
  {
   "cell_type": "code",
   "execution_count": null,
   "metadata": {},
   "outputs": [],
   "source": [
    "def getEuclideanDistances(binarizedData, binarizedDevData, k):\n",
    "    eucs = defaultdict(int)\n",
    "    for c,devRow in enumerate(binarizedDevData):\n",
    "        dist = []\n",
    "        for x,tRow in enumerate(binarizedData):\n",
    "            dist.append((x,np.linalg.norm(np.array(tRow)-np.array(devRow))))\n",
    "        eucs[c] = sorted(dist, key = lambda s : s[1])[:k]\n",
    "    return eucs"
   ]
  },
  {
   "cell_type": "code",
   "execution_count": null,
   "metadata": {},
   "outputs": [],
   "source": [
    "eucs = getEuclideanDistances(binarizedData, binarizedDevData, 1)\n",
    "print(eucs)"
   ]
  },
  {
   "cell_type": "code",
   "execution_count": null,
   "metadata": {},
   "outputs": [],
   "source": [
    "# trainIncome = getIncome('income.train.txt.5k')\n",
    "# print(list(getIncome('income.train.txt.5k')))\n",
    "# print(list(getTarget(getData('income.train.txt.5k'))))\n",
    "\n",
    "devIncome = getTarget(getData('income.dev.txt'))"
   ]
  },
  {
   "cell_type": "code",
   "execution_count": null,
   "metadata": {},
   "outputs": [],
   "source": [
    "l = sorted(eucs.values(),key = lambda s : s[0][1])\n",
    "print(l[0])\n",
    "print(l[-1])"
   ]
  },
  {
   "cell_type": "code",
   "execution_count": null,
   "metadata": {},
   "outputs": [],
   "source": [
    "def getPredictions(eucs):\n",
    "    predictions = []\n",
    "#     actuals = []\n",
    "    for rowIndex,dist in eucs.items():\n",
    "#         actualLabel = devIncome[rowIndex][1]\n",
    "        predictedLabels = [trainIncome[i[0]][1] for i in dist]\n",
    "        predictedLabel = Counter(predictedLabels).most_common(1)[0][0]\n",
    "        predictions.append(predictedLabel)\n",
    "#         actuals.append(actualLabel)\n",
    "\n",
    "#     return predictions, actuals\n",
    "    return predictions"
   ]
  },
  {
   "cell_type": "code",
   "execution_count": null,
   "metadata": {},
   "outputs": [],
   "source": [
    "predictions = getPredictions(eucs)\n",
    "actuals = getTarget(getData('income.dev.txt'))\n",
    "\n",
    "error = 0\n",
    "for i in range(len(predictions)):\n",
    "    if actuals[i] != predictions[i]:\n",
    "        error+=1\n",
    "\n",
    "# print('error rate for k={} is {}'.format(k,error))\n",
    "print('k={} error rate: {}% Positive %: {}% is '.format(1,error/10, Counter(predictions)['>50K']/10))"
   ]
  },
  {
   "cell_type": "code",
   "execution_count": null,
   "metadata": {},
   "outputs": [],
   "source": [
    "def getEucDist(trainRow, testRow):\n",
    "    n = len(trainRow)\n",
    "    return math.sqrt(sum([ (np.array(trainRow[i]) - np.array(testRow[i])) **2 for i in range(n)] ))"
   ]
  },
  {
   "cell_type": "code",
   "execution_count": null,
   "metadata": {},
   "outputs": [],
   "source": [
    "print(getEucDist([0,0], [1,1]))\n",
    "print(np.linalg.norm(np.array([[0,0], [1,1]])-np.array([1,1])))\n",
    "print(np.linalg.norm(np.array([[0,0], [1,1]])-np.array([1,1]), axis=1 ))\n",
    "print(np.linalg.norm(np.array([[0,0], [1,1], [2,2], [3,3]])-np.array([1,1]), axis = 1))"
   ]
  },
  {
   "cell_type": "code",
   "execution_count": null,
   "metadata": {},
   "outputs": [],
   "source": [
    "# print(unbinarizedDevData[0])\n",
    "# print(unbinarizedTrainData[4872])\n",
    "# print(unbinarizedTrainData[4787])\n",
    "# print(unbinarizedTrainData[2591])\n",
    "# print(getEucDist(binarizedDevData[0], binarizedTrainData[4872]))"
   ]
  },
  {
   "cell_type": "code",
   "execution_count": null,
   "metadata": {},
   "outputs": [],
   "source": [
    "def getTopKElements(l,k):\n",
    "    topK = []\n",
    "    i = 0\n",
    "    \n",
    "    while len(topK) < k:\n",
    "#         print('inside ------------')\n",
    "        topK.append((l[i],i))\n",
    "        for j in range(i+1,len(l)):\n",
    "            if topK[i][0] > l[j]:\n",
    "#                 temp = topK[i][0]\n",
    "                topK[i] = (l[j],j)\n",
    "                l[i], l[j] = l[j], l[i]\n",
    "                \n",
    "#             print('j: {} top: {} l: {}'.format(j, topK, l))\n",
    "        i+=1\n",
    "    return topK"
   ]
  },
  {
   "cell_type": "code",
   "execution_count": null,
   "metadata": {},
   "outputs": [],
   "source": [
    "l = [45,32,1,13,23,56,77,31]\n",
    "k = 3\n",
    "print(getTopKElements(l,k))\n",
    "print(np.partition([45,32,1,13,23,56,77,31],3))\n",
    "print(np.argpartition([45,32,1,13,23,56,77,31],3))\n",
    "# print(l)\n",
    "print(np.sort([45,32,1,13,23,56,77,31]))\n",
    "print(np.argsort([45,32,1,13,23,56,77,31]))"
   ]
  },
  {
   "cell_type": "code",
   "execution_count": null,
   "metadata": {},
   "outputs": [],
   "source": [
    "def getAccuracy(predictions):\n",
    "    actuals = getTarget(getData('income.dev.txt'))\n",
    "    error = 0\n",
    "    for i in range(len(predictions)):\n",
    "        if actuals[i] != predictions[i]:\n",
    "            error+=1\n",
    "    return error"
   ]
  },
  {
   "cell_type": "code",
   "execution_count": null,
   "metadata": {},
   "outputs": [],
   "source": [
    "def getPredictions(topKElements):\n",
    "    trainIncome = getTarget(getData('income.train.txt.5k'))\n",
    "    predictions = []\n",
    "    \n",
    "    for i in range(len(topKElements)):\n",
    "        predictedLabelsIndex = [trainIncome[j] for dist,j in topKElements[i]]\n",
    "        predictedLabel = Counter(predictedLabelsIndex).most_common(1)[0][0]\n",
    "        predictions.append(predictedLabel)\n",
    "    return predictions"
   ]
  },
  {
   "cell_type": "code",
   "execution_count": null,
   "metadata": {},
   "outputs": [],
   "source": [
    "def getL2NormWithoutIndex(train, test):\n",
    "    dist = []\n",
    "    for row in test:\n",
    "        dist.append(np.linalg.norm(train - row, axis = 1))\n",
    "    return dist"
   ]
  },
  {
   "cell_type": "code",
   "execution_count": null,
   "metadata": {},
   "outputs": [],
   "source": [
    "binarizedTrainData = getBinarizedData(unbinarizedTrainData, 92)\n",
    "binarizedDevData = getBinarizedData(unbinarizedDevData, 92)\n",
    "devDistWithoutIndex = getL2NormWithoutIndex(binarizedTrainData, binarizedDevData)\n",
    "# [getTopKElements(devDistWithoutIndex[d],3) for d in range(len(devDistWithoutIndex[:20]))]\n",
    "# [sorted(devDistWithoutIndex[d])[:3] for d in range(len(devDistWithoutIndex[:20]))]"
   ]
  },
  {
   "cell_type": "code",
   "execution_count": null,
   "metadata": {},
   "outputs": [],
   "source": [
    "with open('untitled.txt') as f:\n",
    "    d = f.readlines()\n",
    "\n",
    "d = list(map(lambda s : s.split(','), d))\n",
    "d = list(map(float, [d[i] for i in range(len(d))][0]))\n",
    "print([d[i] for i in [1578,4396,4092]])\n",
    "# d = list(map(int, d))\n",
    "# print(len(d))\n",
    "# [d for d.split(',') in d]"
   ]
  }
 ],
 "metadata": {
  "kernelspec": {
   "display_name": "Python 3",
   "language": "python",
   "name": "python3"
  },
  "language_info": {
   "codemirror_mode": {
    "name": "ipython",
    "version": 3
   },
   "file_extension": ".py",
   "mimetype": "text/x-python",
   "name": "python",
   "nbconvert_exporter": "python",
   "pygments_lexer": "ipython3",
   "version": "3.7.1"
  }
 },
 "nbformat": 4,
 "nbformat_minor": 2
}
