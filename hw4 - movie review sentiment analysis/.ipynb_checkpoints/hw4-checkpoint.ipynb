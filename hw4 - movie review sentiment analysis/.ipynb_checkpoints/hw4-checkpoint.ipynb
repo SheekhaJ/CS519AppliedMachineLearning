{
 "cells": [
  {
   "cell_type": "code",
   "execution_count": 57,
   "metadata": {},
   "outputs": [
    {
     "name": "stdout",
     "output_type": "stream",
     "text": [
      "epoch 1, update 41.2%, dev 32.3%\n",
      "epoch 2, update 31.5%, dev 30.8%\n",
      "epoch 3, update 25.9%, dev 29.3%\n",
      "epoch 4, update 22.5%, dev 28.9%\n",
      "epoch 5, update 20.0%, dev 28.5%\n",
      "epoch 6, update 17.8%, dev 28.1%\n",
      "epoch 7, update 15.8%, dev 27.4%\n",
      "epoch 8, update 15.4%, dev 27.7%\n",
      "epoch 9, update 14.5%, dev 27.7%\n",
      "epoch 10, update 12.4%, dev 27.3%\n",
      "best dev err 27.3%, |w|=16744, time: 3.6 secs\n",
      "len of model: 16744\n",
      "------------------------\n",
      "Most positive features: ['generic', 'harmless', 'bore', 'incoherent', 'period', 'base', 'pie', 'inane', 'sort', 'ingredients', 'devoid', 'routine', 'badly', '2002', 'seagal', 'shoot', 'wet', 'scattered', 'flat', 'ludicrous']\n",
      "------------------------\n",
      "Most negative features: ['uses', 'breath', 'runs', 'moved', 'rare', 'proves', 'refreshingly', 'lively', 'child', 'remarkable', 'wonderful', 'heard', '1920', 'entertain', 'carefully', 'dots', 'loved', 'smarter', 'triumph', 'am']\n"
     ]
    }
   ],
   "source": [
    "%reset -f\n",
    "\n",
    "import sys\n",
    "import time\n",
    "from svector import svector\n",
    "import operator\n",
    "\n",
    "def read_from(textfile):\n",
    "    for line in open(textfile):\n",
    "        label, words = line.strip().split(\"\\t\")\n",
    "        yield (1 if label==\"+\" else -1, words.split())\n",
    "\n",
    "def make_vector(words):\n",
    "    v = svector()\n",
    "    for word in words:\n",
    "        v[word] += 1\n",
    "    v['<bias>'] = -5\n",
    "    return v\n",
    "    \n",
    "def test(devfile, model):\n",
    "    tot, err = 0, 0\n",
    "    for i, (label, words) in enumerate(read_from(devfile), 1): # note 1...|D|\n",
    "        err += label * (model.dot(make_vector(words))) <= 0\n",
    "    return err/i  # i is |D| now\n",
    "            \n",
    "def train(trainfile, devfile, epochs=5):\n",
    "    t = time.time()\n",
    "    best_err = 1.\n",
    "    model = svector()\n",
    "    avgModel = svector()\n",
    "    c=0\n",
    "#     print('initial model: {}'.format(model))\n",
    "\n",
    "    for it in range(1, epochs+1):\n",
    "#     for it in range(1):\n",
    "        updates = 0\n",
    "        for i, (label, words) in enumerate(read_from(trainfile), 1): # label is +1 or -1\n",
    "            sent = make_vector(words)\n",
    "            if label * (model.dot(sent)) <= 0:\n",
    "                updates += 1\n",
    "                model += label * sent\n",
    "                avgModel += c*label*sent\n",
    "            c += 1\n",
    "#         print('len of sent: {} len of model: {} and avgmodel: {}'.format(len(sent), len(model), len(avgModel)))\n",
    "            \n",
    "        dev_err = test(devfile, model)\n",
    "        dev_err_avg = test(devfile, c*model - avgModel)\n",
    "        \n",
    "        best_err = min(best_err, dev_err_avg)\n",
    "        print(\"epoch %d, update %.1f%%, dev %.1f%%\" % (it, updates / i * 100, dev_err_avg * 100))\n",
    "    print(\"best dev err %.1f%%, |w|=%d, time: %.1f secs\" % (best_err * 100, len(model), time.time() - t))\n",
    "    \n",
    "    return model, avgModel\n",
    "\n",
    "if __name__ == \"__main__\":\n",
    "    model, avgModel = train('train.txt', 'dev.txt', 10)\n",
    "    sortedWeightVectors = sorted(avgModel, key=avgModel.get)\n",
    "    print('len of model: {}'.format(len(model)))\n",
    "    print('------------------------')\n",
    "    print('Most positive features: {}'.format(sortedWeightVectors[:20]))\n",
    "    print('------------------------')\n",
    "    print('Most negative features: {}'.format(sortedWeightVectors[-20:]))"
   ]
  }
 ],
 "metadata": {
  "kernelspec": {
   "display_name": "Python 3",
   "language": "python",
   "name": "python3"
  },
  "language_info": {
   "codemirror_mode": {
    "name": "ipython",
    "version": 3
   },
   "file_extension": ".py",
   "mimetype": "text/x-python",
   "name": "python",
   "nbconvert_exporter": "python",
   "pygments_lexer": "ipython3",
   "version": "3.7.1"
  }
 },
 "nbformat": 4,
 "nbformat_minor": 2
}
